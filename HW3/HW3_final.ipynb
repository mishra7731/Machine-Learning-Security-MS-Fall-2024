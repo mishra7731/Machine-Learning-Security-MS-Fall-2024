{
  "nbformat": 4,
  "nbformat_minor": 0,
  "metadata": {
    "colab": {
      "provenance": []
    },
    "kernelspec": {
      "name": "python3",
      "display_name": "Python 3"
    },
    "language_info": {
      "name": "python"
    }
  },
  "cells": [
    {
      "cell_type": "markdown",
      "source": [
        "# Assignment 1"
      ],
      "metadata": {
        "id": "cjRS0IOUjH4U"
      }
    },
    {
      "cell_type": "code",
      "execution_count": null,
      "metadata": {
        "id": "Wq-PqYlqXz2_"
      },
      "outputs": [],
      "source": [
        "# Imports.\n",
        "import random\n",
        "import network as Network\n",
        "import mnist_loader as mnist_loader\n",
        "import pickle\n",
        "import matplotlib.pyplot as plt\n",
        "import numpy as np\n",
        "\n",
        "# Set the random seed. DO NOT CHANGE THIS!\n",
        "seedVal = 41\n",
        "random.seed(seedVal)\n",
        "np.random.seed(seedVal)\n",
        "\n",
        "%matplotlib inline"
      ]
    },
    {
      "cell_type": "markdown",
      "source": [
        "Use a pre-trained network. It has been saved as a pickle file. Load the model, and continue. The network has only one hidden layer of 30 units, 784 input units (MNIST images are  28×28=784  pixels large), and 10 output units. All the activations are sigmoidal."
      ],
      "metadata": {
        "id": "LlYlMbroh_ty"
      }
    },
    {
      "cell_type": "code",
      "source": [
        "# Load the pre-trained model.\n",
        "with open('trained_network.pkl', 'rb') as f:\n",
        "    u = pickle._Unpickler(f)\n",
        "    u.encoding = 'latin1'\n",
        "    net = u.load()\n",
        "\n",
        "# Helpful function to load the MNIST data.\n",
        "training_data, validation_data, test_data = mnist_loader.load_data_wrapper()"
      ],
      "metadata": {
        "id": "nAfLggAEiCGO"
      },
      "execution_count": null,
      "outputs": []
    },
    {
      "cell_type": "markdown",
      "source": [
        "The neural network is pretrained, so it should already be set up to predict characters. Run predict(n) to evaluate the  𝑛𝑡ℎ  digit in the test set using the network. You should see that even this relatively simple network works really well (~97% accuracy). The output of the network is a one-hot vector indicating the network's predictions:"
      ],
      "metadata": {
        "id": "5BiqBWQgiIEM"
      }
    },
    {
      "cell_type": "code",
      "source": [
        "def predict(n):\n",
        "    # Get the data from the test set\n",
        "    x = test_data[n][0]\n",
        "\n",
        "    # Print the prediction of the network\n",
        "    print('Network output: \\n' + str(np.round(net.feedforward(x), 2)) + '\\n')\n",
        "    print('Network prediction: ' + str(np.argmax(net.feedforward(x))) + '\\n')\n",
        "    print('Actual image: ')\n",
        "\n",
        "    # Draw the image\n",
        "    plt.imshow(x.reshape((28,28)), cmap='Greys')\n",
        "    plt.axis('off')\n",
        "    plt.show()\n",
        "\n",
        "# Replace the argument with any number between 0 and 9999\n",
        "predict(8384)"
      ],
      "metadata": {
        "colab": {
          "base_uri": "https://localhost:8080/",
          "height": 661
        },
        "id": "WQsCPO5wiMnj",
        "outputId": "61f9fe1d-732b-49a8-9404-2fa4e0e7a4a5"
      },
      "execution_count": null,
      "outputs": [
        {
          "output_type": "stream",
          "name": "stdout",
          "text": [
            "Network output: \n",
            "[[0.]\n",
            " [0.]\n",
            " [0.]\n",
            " [0.]\n",
            " [0.]\n",
            " [0.]\n",
            " [0.]\n",
            " [0.]\n",
            " [1.]\n",
            " [0.]]\n",
            "\n",
            "Network prediction: 8\n",
            "\n",
            "Actual image: \n"
          ]
        },
        {
          "output_type": "display_data",
          "data": {
            "text/plain": [
              "<Figure size 640x480 with 1 Axes>"
            ],
            "image/png": "[encoded data removed]"
          },
          "metadata": {}
        }
      ]
    },
    {
      "cell_type": "markdown",
      "source": [
        "To actually generate adversarial examples we solve a minimization problem. We do this by setting a \"goal\" label called $ \\vec y_{goal} $ (for instance, if we wanted the network to think the adversarial image is an 8, then we would choose $ \\vec y_{goal} $ to be a one-hot vector with the eighth entry being 1). Now we define a cost function:\n",
        "\n",
        "$$ C = \\frac{1}{2} \\|\\vec y_{goal} - \\hat y(\\vec x)\\|^2_2 $$\n",
        "\n",
        "where $ \\| \\cdot \\|^2_2 $ is the squared Euclidean norm and $ \\hat y $ is the network's output. It is a function of $ \\vec x $, the input image to the network, so we write $ \\hat y(\\vec x) $. Our goal is to find an $ \\vec x $ such that $ C $ is minimized. Hopefully this makes sense, because if we find an image $ \\vec x $ that minimizes $ C $ then that means the output of the network when given $ \\vec x $ is close to our desired output, $ \\vec y_{goal} $. So in full mathy language, our optimization problem is:\n",
        "\n",
        "$$ \\arg \\min_{\\vec x} C(\\vec x) $$\n",
        "\n",
        "that is, find the $ \\vec x $ that minimizes the cost $ C $.\n",
        "\n",
        "To actually do this we can do gradient descent on $ C $. Start with an initially random vector $ \\vec x $ and take steps (changing $ \\vec x $) gradually in the direction opposite of the gradient $ \\nabla_x C $. To actually get these derivatives we can perform backpropagation on the network. In contrast to training a network, where we perform gradient descent on the weights and biases, when we create adversarial examples we hold the weights and biases constant (because we don't want to change the network!), and change the inputs to our network."
      ],
      "metadata": {
        "id": "c_PiZ8HpiWu_"
      }
    },
    {
      "cell_type": "markdown",
      "source": [
        "Helper functions to evaluate the non-linearity and it's derivative:"
      ],
      "metadata": {
        "id": "UzYcVS7kikpF"
      }
    },
    {
      "cell_type": "code",
      "source": [
        "def sigmoid(z):\n",
        "    \"\"\"The sigmoid function.\"\"\"\n",
        "    return 1.0/(1.0+np.exp(-z))\n",
        "\n",
        "def sigmoid_prime(z):\n",
        "    \"\"\"Derivative of the sigmoid function.\"\"\"\n",
        "    return sigmoid(z)*(1-sigmoid(z))"
      ],
      "metadata": {
        "id": "GngMlHCYisc6"
      },
      "execution_count": null,
      "outputs": []
    },
    {
      "cell_type": "markdown",
      "source": [
        "Also, a function to find the gradient derivatives of the cost function,  ∇𝑥𝐶  with respect to the input  𝑥⃗ , with a goal label of  𝑦⃗𝑔𝑜𝑎𝑙 . (Don't worry too much about the implementation, just know it calculates derivatives)."
      ],
      "metadata": {
        "id": "lHTwX-lwiwU2"
      }
    },
    {
      "cell_type": "code",
      "source": [
        "def input_derivative(net, x, y):\n",
        "    \"\"\"\n",
        "    Calculating the gradient of the cost function with respect to the input.\n",
        "\n",
        "    Parameters:\n",
        "        net: The trained neural network.\n",
        "        x: The input image (original).\n",
        "        y_goal: The target output (one-hot vector of the desired class).\n",
        "\n",
        "    Returns:\n",
        "        gradient_x: The gradient of the cost function with respect to the input x.\n",
        "    \"\"\"\n",
        "\n",
        "    \"\"\" Calculate derivatives wrt the inputs\"\"\"\n",
        "    nabla_b = [np.zeros(b.shape) for b in net.biases]\n",
        "    nabla_w = [np.zeros(w.shape) for w in net.weights]\n",
        "\n",
        "\n",
        "    # feedforward\n",
        "    activation = x\n",
        "    activations = [x] # list to store all the activations, layer by layer\n",
        "    zs = [] # list to store all the z vectors, layer by layer\n",
        "    for b, w in zip(net.biases, net.weights):\n",
        "        z = np.dot(w, activation)+b\n",
        "        zs.append(z)\n",
        "        activation = sigmoid(z)\n",
        "        activations.append(activation)\n",
        "\n",
        "\n",
        "    # backward pass\n",
        "    delta = net.cost_derivative(activations[-1], y) * \\\n",
        "        sigmoid_prime(zs[-1])\n",
        "    nabla_b[-1] = delta\n",
        "    nabla_w[-1] = np.dot(delta, activations[-2].transpose())\n",
        "\n",
        "    # Update the gradients for the final layer\n",
        "    nabla_b[-1] = delta\n",
        "    nabla_w[-1] = np.dot(delta, activations[-2].transpose())\n",
        "\n",
        "    # Compute gradients for hidden layers\n",
        "    for l in range(2, net.num_layers):\n",
        "        z = zs[-l]\n",
        "        sp = sigmoid_prime(z)\n",
        "        delta = np.dot(net.weights[-l+1].transpose(), delta) * sp\n",
        "        nabla_b[-l] = delta\n",
        "        nabla_w[-l] = np.dot(delta, activations[-l-1].transpose())\n",
        "\n",
        "    # --- Return the gradient with respect to the input ---\n",
        "    gradient_x = np.dot(net.weights[0].transpose(), delta)\n",
        "    return gradient_x\n"
      ],
      "metadata": {
        "id": "5dWkNbbvi2yH"
      },
      "execution_count": null,
      "outputs": []
    },
    {
      "cell_type": "markdown",
      "source": [
        "The actual function that generates adversarial examples and a wrapper function:"
      ],
      "metadata": {
        "id": "vIwmQpFwi8Md"
      }
    },
    {
      "cell_type": "markdown",
      "source": [
        "## (a) Non Targeted Attack"
      ],
      "metadata": {
        "id": "N38X9alDjCNS"
      }
    },
    {
      "cell_type": "code",
      "source": [
        "def nonTargetedAdversarial(net, n, steps, eta):\n",
        "    \"\"\"\n",
        "    net : network object (neural network instance to use)\n",
        "    n : integer (our goal label (just an int, the function transforms it into a one-hot vector))\n",
        "    steps : integer (number of steps for gradient descent)\n",
        "    eta : float (step size for gradient descent)\n",
        "    \"\"\"\n",
        "\n",
        "    ####### Enter your code below #######\n",
        "     # Get the original image and its label\n",
        "    x, actual_label = test_data[n]\n",
        "\n",
        "    # Set the goal output\n",
        "    # One-hot encode the actual label (goal output)\n",
        "    y_actual = np.zeros((10, 1))\n",
        "    y_actual[actual_label] = 1\n",
        "\n",
        "    # Initialize x for adversarial gradient descent\n",
        "    adversarial_x = np.copy(x)\n",
        "\n",
        "    # Create a random image to initialize gradient descent with\n",
        "\n",
        "    # Gradient descent on the input\n",
        "    for _ in range(steps):\n",
        "        # Compute the derivative of the cost with respect to the input\n",
        "        gradient = input_derivative(net, adversarial_x, np.zeros((10, 1)))\n",
        "\n",
        "        # Perform the gradient descent update\n",
        "        adversarial_x += eta * np.sign(gradient)\n",
        "\n",
        "        # Clip the adversarial image to valid pixel intensity range [0, 1]\n",
        "        adversarial_x = np.clip(adversarial_x, 0, 1)\n",
        "\n",
        "    return adversarial_x"
      ],
      "metadata": {
        "id": "fslI5Z-LjEQ3"
      },
      "execution_count": null,
      "outputs": []
    },
    {
      "cell_type": "code",
      "source": [
        "# Wrapper function\n",
        "\n",
        "def generate(n, steps=100, eta=0.01):\n",
        "    \"\"\"\n",
        "    Wrapper function to generate and display a non-targeted adversarial example.\n",
        "\n",
        "    Parameters:\n",
        "        n : int\n",
        "            Index of the test example to attack.\n",
        "        steps : int\n",
        "            Number of gradient descent steps. Default is 100.\n",
        "        eta : float\n",
        "            Step size for gradient descent. Default is 0.01.\n",
        "    \"\"\"\n",
        "     ####### Enter your code below #######\n",
        "\n",
        "    # Find the vector x with the above function that you just wrote.\n",
        "\n",
        "    # Generate the adversarial example using non-targeted attack\n",
        "    adversarial_x = nonTargetedAdversarial(net, n, steps, eta)\n",
        "\n",
        "    # Pass the generated image (vector) to the neural network. Perform a forward pass, and get the prediction.\n",
        "    # Get the network's prediction on the adversarial example\n",
        "    adversarial_output = net.feedforward(adversarial_x)\n",
        "\n",
        "    # Display the network's output and prediction\n",
        "    print('Network Output: \\n' + str(np.round(adversarial_output, 2)) + '\\n')\n",
        "    print('Network Prediction: ' + str(np.argmax(adversarial_output)) + '\\n')\n",
        "\n",
        "    # Display the adversarial example\n",
        "    print('Adversarial Example: ')\n",
        "    plt.imshow(adversarial_x.reshape(28, 28), cmap='Greys')\n",
        "    plt.axis('off')\n",
        "    plt.show()"
      ],
      "metadata": {
        "id": "QoFbKbQdjZ1h"
      },
      "execution_count": null,
      "outputs": []
    },
    {
      "cell_type": "markdown",
      "source": [
        "Now let's generate some adversarial examples! Use the function provided to mess around with the neural network. (For some inputs gradient descent doesn't always converge; 0 and 5 seem to work pretty well though. I suspect convergence is very highly dependent on our choice of random initial $ \\vec x $. We'll see later in the notebook if we force the adversarial example to \"look like\" a handwritten digit, convergence is much more likely. In a sense we will be adding regularization to our generation process)."
      ],
      "metadata": {
        "id": "i3I9VJz6jee9"
      }
    },
    {
      "cell_type": "code",
      "source": [
        "generate(3)"
      ],
      "metadata": {
        "colab": {
          "base_uri": "https://localhost:8080/",
          "height": 661
        },
        "id": "jOcin4qzjhjH",
        "outputId": "8af4ad1c-95b5-4c5a-c2d7-1a5468b8248d"
      },
      "execution_count": null,
      "outputs": [
        {
          "output_type": "stream",
          "name": "stdout",
          "text": [
            "Network Output: \n",
            "[[1.]\n",
            " [0.]\n",
            " [0.]\n",
            " [0.]\n",
            " [0.]\n",
            " [0.]\n",
            " [1.]\n",
            " [0.]\n",
            " [0.]\n",
            " [0.]]\n",
            "\n",
            "Network Prediction: 0\n",
            "\n",
            "Adversarial Example: \n"
          ]
        },
        {
          "output_type": "display_data",
          "data": {
            "text/plain": [
              "<Figure size 640x480 with 1 Axes>"
            ],
            "image/png": "[encoded data removed]"
          },
          "metadata": {}
        }
      ]
    },
    {
      "cell_type": "markdown",
      "source": [
        "## (b) Targeted Attack(s)"
      ],
      "metadata": {
        "id": "-ezSsyuXkI3q"
      }
    },
    {
      "cell_type": "markdown",
      "source": [
        "Sweet! We've just managed to create an image that looks utterly meaningless to a human, but the neural network thinks is a '5' with very high certainty. We can actually take this a bit further. Let's generate an image that looks like one number, but the neural network is certain is another. To do this we will modify our cost function a bit. Instead of just optimizing the input image, $ \\vec x $, to get a desired output label, we'll also optimize the input to look like a certain image, $ \\vec x_{target} $, at the same time. Our new cost function will be\n",
        "\n",
        "$$ C = \\|\\vec y_{goal} - y_{hat}(\\vec x)\\|^2_2 + \\lambda \\|\\vec x - \\vec x_{target}\\|^2_2 $$\n",
        "\n",
        "The added term tells us the distance from our $ \\vec x $ and some $ \\vec x_{target} $ (which is the image we want our adversarial example to look like). Because we want to minimize $ C $, we also want to minimize the distance between our adversarial example and this image. The $ \\lambda $ is hyperparameter that we can tune; it determines which is more important: optimizing for the desired output or optimizing for an image that looks like $ \\vec x_{target} $.\n",
        "\n",
        "If you are familiar with ridge regularization, the above cost function might look suspiciously like the ridge regression cost function. In fact, we can view this generation method as giving our model a prior, centered on our target image.\n",
        "\n",
        "Here is a function that implements optimizing the modified cost function, called `sneaky_adversarial` (because it is very sneaky). Note that the only difference between this function and `adversarial` is an additional term on the gradient descent update for the regularization term:"
      ],
      "metadata": {
        "id": "uSKjIC5GkKRf"
      }
    },
    {
      "cell_type": "code",
      "source": [
        "def targetedAdversarial(net, n, x_target, steps, eta, lam=.05):\n",
        "    \"\"\"\n",
        "    Generate a targeted adversarial example using the modified cost function.\n",
        "    Parameters:\n",
        "      net : network object (neural network instance to use)\n",
        "      n : integer (our goal label (just an int, the function transforms it into a one-hot vector))\n",
        "      x_target : numpy vector (our goal image for the adversarial example)\n",
        "      steps : integer (number of steps for gradient descent)\n",
        "      eta : float (step size for gradient descent)\n",
        "      lam : float (lambda, our regularization parameter. Default is .05)\n",
        "    Returns:\n",
        "        adversarial_x : np.ndarray\n",
        "            The generated adversarial example.\n",
        "    \"\"\"\n",
        "\n",
        "    # Set the goal output\n",
        "    # One-hot encode the goal label\n",
        "    y_goal = np.zeros((10, 1))\n",
        "    y_goal[n] = 1\n",
        "\n",
        "    # Create a random image to initialize gradient descent with\n",
        "    adversarial_x = np.random.uniform(low=0, high = 1, size= (784, 1))\n",
        "    # Gradient descent on the input\n",
        "    for _ in range(steps):\n",
        "        # Compute gradient of the cost function w.r.t. the input\n",
        "        gradient = input_derivative(net, adversarial_x, y_goal)\n",
        "\n",
        "        # Compute the regularization term\n",
        "        regularization = 2 * lam * (adversarial_x - x_target)\n",
        "\n",
        "        # Update adversarial_x with gradient descent\n",
        "        adversarial_x -= eta * (gradient + regularization)\n",
        "\n",
        "    return adversarial_x"
      ],
      "metadata": {
        "id": "kOWhwK7vkUrF"
      },
      "execution_count": null,
      "outputs": []
    },
    {
      "cell_type": "code",
      "source": [
        "# Wrapper function\n",
        "def generate_advSample(n, m):\n",
        "    \"\"\"  Generate and display a targeted adversarial example.\n",
        "    Parameters:\n",
        "        n : int (The target label (0-9) for the adversarial example.)\n",
        "        m : int (The label/index of the example image to use as the \"target\" appearance(from the test set))    \"\"\"\n",
        "    # Find random instance of label m in the test set\n",
        "    idx = np.random.randint(0,8000)\n",
        "    while test_data[idx][1] != m:\n",
        "        idx += 1\n",
        "\n",
        "    # Hardcode the parameters for the wrapper function\n",
        "    #a = targetedAdversarial(net, n, test_data[idx][0], 100, 1)\n",
        "    #x = np.round(net.feedforward(a), 2)\n",
        "    # Hardcode the parameters for the adversarial generation\n",
        "    x_target = test_data[idx][0]\n",
        "    adversarial_x = targetedAdversarial(net, n, x_target, steps=100, eta=1, lam=0.05)\n",
        "    network_output = np.round(net.feedforward(adversarial_x), 2)\n",
        "\n",
        "    # Display the target image\n",
        "    print('\\nWhat we want our adversarial example to look like: ')\n",
        "    plt.imshow(x_target.reshape((28, 28)), cmap='Greys')\n",
        "    plt.axis('off')\n",
        "    plt.show()\n",
        "\n",
        "    # Display the adversarial example\n",
        "    print('\\nAdversarial Example: ')\n",
        "    plt.imshow(adversarial_x.reshape((28, 28)), cmap='Greys')\n",
        "    plt.axis('off')\n",
        "    plt.show()\n",
        "\n",
        "    # Print the network's prediction and output\n",
        "    print('Network Prediction: ' + str(np.argmax(network_output)) + '\\n')\n",
        "    print('Network Output: \\n' + str(network_output) + '\\n')\n",
        "\n",
        "    return adversarial_x\n"
      ],
      "metadata": {
        "id": "fpi20Yr1ksTD"
      },
      "execution_count": null,
      "outputs": []
    },
    {
      "cell_type": "markdown",
      "source": [
        "Play around with this function to make \"sneaky\" adversarial examples! (Again, some numbers converge better than others... try 0, 2, 3, 5, 6, or 8 as a target label. 1, 4, 7, and 9 still don't work as well... no idea why... We get more numbers that converge because we've added regularization term to our cost function. Perhaps changing $ \\lambda $ will get more to converge?)"
      ],
      "metadata": {
        "id": "-HkC-MTnk1CO"
      }
    },
    {
      "cell_type": "code",
      "source": [
        "# generate_advSample(target label, target digit)\n",
        "adv_ex = generate_advSample(n=8, m=2)"
      ],
      "metadata": {
        "colab": {
          "base_uri": "https://localhost:8080/",
          "height": 1000
        },
        "id": "YJZZ_vTlk2Az",
        "outputId": "fa9fcaa9-d2de-4f62-b795-e391d8440912"
      },
      "execution_count": null,
      "outputs": [
        {
          "output_type": "stream",
          "name": "stdout",
          "text": [
            "\n",
            "What we want our adversarial example to look like: \n"
          ]
        },
        {
          "output_type": "display_data",
          "data": {
            "text/plain": [
              "<Figure size 640x480 with 1 Axes>"
            ],
            "image/png": "[encoded data removed]"
          },
          "metadata": {}
        },
        {
          "output_type": "stream",
          "name": "stdout",
          "text": [
            "\n",
            "Adversarial Example: \n"
          ]
        },
        {
          "output_type": "display_data",
          "data": {
            "text/plain": [
              "<Figure size 640x480 with 1 Axes>"
            ],
            "image/png": "[encoded data removed]"
          },
          "metadata": {}
        },
        {
          "output_type": "stream",
          "name": "stdout",
          "text": [
            "Network Prediction: 8\n",
            "\n",
            "Network Output: \n",
            "[[0.  ]\n",
            " [0.  ]\n",
            " [0.02]\n",
            " [0.  ]\n",
            " [0.  ]\n",
            " [0.  ]\n",
            " [0.  ]\n",
            " [0.  ]\n",
            " [0.96]\n",
            " [0.  ]]\n",
            "\n"
          ]
        }
      ]
    },
    {
      "cell_type": "markdown",
      "source": [
        "## (c) Protection against adversarial attacks"
      ],
      "metadata": {
        "id": "9A5UFJuak-o4"
      }
    },
    {
      "cell_type": "markdown",
      "source": [
        "Awesome! We’ve just created images that trick neural networks. The next question we could ask is whether or not we could protect against these kinds of attacks. If you look closely at the original images and the adversarial examples you’ll see that the adversarial examples have some sort of grey tinged background."
      ],
      "metadata": {
        "id": "MKoc1ziCk_qy"
      }
    },
    {
      "cell_type": "markdown",
      "source": [
        "So how could we protect against these adversarial attacks? One very simple way would be to use binary thresholding. Set a pixel as completely black or completely white depending on a threshold. This should remove the \"noise\" that's always present in the adversarial images. Let's see if it works:"
      ],
      "metadata": {
        "id": "96zhL4XulDvd"
      }
    },
    {
      "cell_type": "code",
      "source": [
        "def simple_defense(n, m):\n",
        "    \"\"\"Apply binary thresholding to protect against adversarial attacks.\n",
        "    Parameters:\n",
        "        n : int (The target number to match (0-9).)\n",
        "        m : int (The label of the example image to use (from the test set).)\"\"\"\n",
        "    # Generate an adversarial sample\n",
        "    x_adv = generate_advSample(n, m)\n",
        "\n",
        "    # Perform binary thresholding on the adversarial sample\n",
        "    threshold = 0.5\n",
        "    x_binarized = (x_adv > threshold).astype(np.float32)\n",
        "\n",
        "    # Display the binarized adversarial sample\n",
        "    print(\"With binary thresholding: \")\n",
        "    plt.imshow(x_binarized.reshape(28, 28), cmap='Greys')\n",
        "    plt.axis('off')\n",
        "    plt.show()\n",
        "\n",
        "    # Pass the binarized sample through the network\n",
        "    network_output = net.feedforward(x_binarized)\n",
        "    prediction = np.argmax(network_output)\n",
        "\n",
        "    # Print the network's predictions\n",
        "    print(\"Prediction with binary thresholding: \" + str(prediction) + '\\n')\n",
        "\n",
        "    # Print the network's output\n",
        "    print(\"Network output: \")\n",
        "    print(network_output)\n",
        "\n",
        "    # Evaluate whether the binary thresholding was effective\n",
        "    if prediction == m:\n",
        "        print(\"Defense successful: The network correctly identified the original label.\")\n",
        "    else:\n",
        "        print(\"Defense failed: The network misclassified the binarized sample.\")\n"
      ],
      "metadata": {
        "id": "cLthgnyxlJEY"
      },
      "execution_count": null,
      "outputs": []
    },
    {
      "cell_type": "code",
      "source": [
        "# binary_thresholding(target digit, actual digit)\n",
        "simple_defense(2, 3)"
      ],
      "metadata": {
        "colab": {
          "base_uri": "https://localhost:8080/",
          "height": 1000
        },
        "id": "Rn6DWtbPlQ7m",
        "outputId": "d54ff9f3-dc11-4b91-cb1e-17db16f4ad37"
      },
      "execution_count": null,
      "outputs": [
        {
          "output_type": "stream",
          "name": "stdout",
          "text": [
            "\n",
            "What we want our adversarial example to look like: \n"
          ]
        },
        {
          "output_type": "display_data",
          "data": {
            "text/plain": [
              "<Figure size 640x480 with 1 Axes>"
            ],
            "image/png": "[encoded data removed]"
          },
          "metadata": {}
        },
        {
          "output_type": "stream",
          "name": "stdout",
          "text": [
            "\n",
            "Adversarial Example: \n"
          ]
        },
        {
          "output_type": "display_data",
          "data": {
            "text/plain": [
              "<Figure size 640x480 with 1 Axes>"
            ],
            "image/png": "[encoded data removed]"
          },
          "metadata": {}
        },
        {
          "output_type": "stream",
          "name": "stdout",
          "text": [
            "Network Prediction: 2\n",
            "\n",
            "Network Output: \n",
            "[[0.  ]\n",
            " [0.  ]\n",
            " [0.98]\n",
            " [0.02]\n",
            " [0.  ]\n",
            " [0.  ]\n",
            " [0.  ]\n",
            " [0.  ]\n",
            " [0.  ]\n",
            " [0.  ]]\n",
            "\n",
            "With binary thresholding: \n"
          ]
        },
        {
          "output_type": "display_data",
          "data": {
            "text/plain": [
              "<Figure size 640x480 with 1 Axes>"
            ],
            "image/png": "[encoded data removed]"
          },
          "metadata": {}
        },
        {
          "output_type": "stream",
          "name": "stdout",
          "text": [
            "Prediction with binary thresholding: 3\n",
            "\n",
            "Network output: \n",
            "[[1.40642771e-05]\n",
            " [2.01092529e-10]\n",
            " [1.54963599e-06]\n",
            " [9.99810333e-01]\n",
            " [7.41914592e-08]\n",
            " [3.30450030e-06]\n",
            " [9.52086393e-07]\n",
            " [6.35023808e-10]\n",
            " [7.81403282e-06]\n",
            " [1.43862434e-08]]\n",
            "Defense successful: The network correctly identified the original label.\n"
          ]
        }
      ]
    },
    {
      "cell_type": "markdown",
      "source": [
        "Looks like it works pretty well! However, note that most adversarial attacks, especially on convolutional neural networks trained on massive full color image sets such as imagenet, can't be defended against by a simple binary threshold."
      ],
      "metadata": {
        "id": "vrbuyg9ZlZE9"
      }
    },
    {
      "cell_type": "markdown",
      "source": [
        "## Adversarial Training"
      ],
      "metadata": {
        "id": "PJwxFIC2la0V"
      }
    },
    {
      "cell_type": "markdown",
      "source": [
        "Looks like it works pretty well! However, note that most adversarial attacks, especially on convolutional neural networks trained on massive full color image sets such as imagenet, can't be defended against by a simple binary threshold.\n",
        "\n",
        "We could try one more thing that might be a bit more universal to protect our neural network against adversarial attacks. If we had access to the adversarial attack method (which we do in this case, because we're the ones implementing the attack) we could create a ton of adversarial examples, mix that up with our training dataset with the correct labels, and then retrain a network on this augmented dataset. The retrained network should learn to ignore the adversarial attacks. Here we implement a function to do just that."
      ],
      "metadata": {
        "id": "qQyTIbYelgY8"
      }
    },
    {
      "cell_type": "code",
      "source": [
        "def augment_data(n, data, steps, eta=0.1, lam=0.05):\n",
        "    \"\"\"Generate an augmented training set with adversarial examples.\n",
        "    Parameters:\n",
        "        n : int (Number of adversarial examples to generate.)\n",
        "        data : list of tuples (Dataset to generate adversarial examples from. Each tuple contains (image, label).)\n",
        "        steps : int (Number of gradient descent steps for the adversarial attack.)\n",
        "        eta : float (Learning rate (step size) for adversarial example generation. Default is 0.1.)\n",
        "        lam : float(Regularization parameter for adversarial example generation. Default is 0.05.)\n",
        "    Returns:\n",
        "        augmented : list of tuples(Augmented dataset including original and adversarial examples with correct labels.)\n",
        "    \"\"\"\n",
        "    # Our augmented training set\n",
        "    augmented = list(data)\n",
        "\n",
        "    for i in range(n):\n",
        "        # Progress \"bar\"\n",
        "        if i % 500 == 0:\n",
        "            print(\"Generated digits: \" + str(i))\n",
        "\n",
        "\n",
        "        # Randomly choose a sample from the dataset\n",
        "        rnd_actual_idx = np.random.randint(len(data))\n",
        "        x_target, y_actual = data[rnd_actual_idx]\n",
        "\n",
        "\n",
        "        # TODO : Find a random instance of rnd_actual_digit in the training set.\n",
        "\n",
        "        #x_target = None\n",
        "        #y_actual = None\n",
        "        true_digit_label = y_actual.squeeze().tolist().index(1)\n",
        "\n",
        "        # Choose a value for the adversarial attack\n",
        "        while True:\n",
        "            rnd_fake_digit = np.random.randint(10)\n",
        "            if rnd_fake_digit != true_digit_label: break\n",
        "\n",
        "\n",
        "        # Generate adversarial example\n",
        "        x_adversarial = targetedAdversarial(net, rnd_fake_digit, x_target, steps, eta, lam)\n",
        "\n",
        "        # Add new data(the adversarial example and its correct label to the augmented set)\n",
        "        augmented.append((x_adversarial, y_actual))\n",
        "\n",
        "    print(f\"Augmented dataset size: {len(augmented)} (original + adversarial)\")\n",
        "    return augmented\n"
      ],
      "metadata": {
        "id": "BiWRvMQKlpXd"
      },
      "execution_count": null,
      "outputs": []
    },
    {
      "cell_type": "code",
      "source": [
        "# Try 10000 examples first if you don't want to wait for a long time!\n",
        "augmented = augment_data(10000, training_data, 100)"
      ],
      "metadata": {
        "colab": {
          "base_uri": "https://localhost:8080/"
        },
        "id": "dntY7GJaltHU",
        "outputId": "5f68bd4e-a89c-4b74-fb62-7808aa7d5284"
      },
      "execution_count": null,
      "outputs": [
        {
          "output_type": "stream",
          "name": "stdout",
          "text": [
            "Generated digits: 0\n",
            "Generated digits: 500\n",
            "Generated digits: 1000\n",
            "Generated digits: 1500\n",
            "Generated digits: 2000\n",
            "Generated digits: 2500\n",
            "Generated digits: 3000\n",
            "Generated digits: 3500\n",
            "Generated digits: 4000\n",
            "Generated digits: 4500\n",
            "Generated digits: 5000\n",
            "Generated digits: 5500\n",
            "Generated digits: 6000\n",
            "Generated digits: 6500\n",
            "Generated digits: 7000\n",
            "Generated digits: 7500\n",
            "Generated digits: 8000\n",
            "Generated digits: 8500\n",
            "Generated digits: 9000\n",
            "Generated digits: 9500\n",
            "Augmented dataset size: 60000 (original + adversarial)\n"
          ]
        }
      ]
    },
    {
      "cell_type": "markdown",
      "source": [
        "Now let's check to make sure our augmented dataset actually makes sense. Here we have a function that checks the $ i^{th} $ example in our augmented set."
      ],
      "metadata": {
        "id": "d386lwr8noPI"
      }
    },
    {
      "cell_type": "code",
      "source": [
        "def check_augmented(i, augmented):\n",
        "    # Extract the image and label from the augmented dataset\n",
        "    image, label = augmented[i]\n",
        "\n",
        "    # Show the image\n",
        "    print('Image: \\n')\n",
        "    plt.imshow(image.reshape(28, 28), cmap='Greys')\n",
        "    plt.axis('off')\n",
        "    plt.show()\n",
        "\n",
        "    # Show the original network prediction for the image\n",
        "    print('Original network prediction: \\n')\n",
        "    print(np.round(net.feedforward(image), 2))\n",
        "\n",
        "    # Show the label\n",
        "    print('\\nLabel (one-hot encoded): \\n')\n",
        "    print(label)\n",
        "\n",
        "    # Convert label from one-hot encoding to integer (if needed)\n",
        "    integer_label = np.argmax(label)\n",
        "    print(f\"Label (integer): {integer_label}\")\n",
        "\n",
        "# check i^th adversarial image\n",
        "check_augmented(239, augmented)"
      ],
      "metadata": {
        "colab": {
          "base_uri": "https://localhost:8080/",
          "height": 882
        },
        "id": "qQ61jnlYnr-g",
        "outputId": "6059f3c2-f073-4542-aa17-0ccf16fab854"
      },
      "execution_count": null,
      "outputs": [
        {
          "output_type": "stream",
          "name": "stdout",
          "text": [
            "Image: \n",
            "\n"
          ]
        },
        {
          "output_type": "display_data",
          "data": {
            "text/plain": [
              "<Figure size 640x480 with 1 Axes>"
            ],
            "image/png": "[encoded data removed]"
          },
          "metadata": {}
        },
        {
          "output_type": "stream",
          "name": "stdout",
          "text": [
            "Original network prediction: \n",
            "\n",
            "[[0.]\n",
            " [0.]\n",
            " [0.]\n",
            " [0.]\n",
            " [0.]\n",
            " [1.]\n",
            " [0.]\n",
            " [0.]\n",
            " [0.]\n",
            " [0.]]\n",
            "\n",
            "Label (one-hot encoded): \n",
            "\n",
            "[[0.]\n",
            " [0.]\n",
            " [0.]\n",
            " [0.]\n",
            " [0.]\n",
            " [1.]\n",
            " [0.]\n",
            " [0.]\n",
            " [0.]\n",
            " [0.]]\n",
            "Label (integer): 5\n"
          ]
        }
      ]
    },
    {
      "cell_type": "markdown",
      "source": [
        "We can now create a new neural network and train it on our augmented dataset and the original training set, using the original test set to validate."
      ],
      "metadata": {
        "id": "bInjKPMQn2oS"
      }
    },
    {
      "cell_type": "code",
      "source": [
        "# Create a new network. Use the function provided in the Network.network to create one. For this you'll have to\n",
        "# read the description of the function there.\n",
        "import network as Network\n",
        "import random\n",
        "# Specify the architecture (e.g., input layer of size 784, one hidden layer with 30 neurons, output layer with 10 neurons)\n",
        "net2 = Network.Network([784, 30, 10])\n",
        "\n",
        "# Combine the original training data with the augmented data\n",
        "combined_train_data = training_data + augmented\n",
        "\n",
        "# Shuffle the combined training data to mix original and adversarial examples\n",
        "random.shuffle(combined_train_data)\n",
        "\n",
        "# Train the new network using Stochastic Gradient Descent (SGD)\n",
        "# Specify hyperparameters for training\n",
        "net2.SGD(combined_train_data, epochs=30, mini_batch_size=10, eta=0.1, test_data=test_data)\n"
      ],
      "metadata": {
        "colab": {
          "base_uri": "https://localhost:8080/"
        },
        "id": "xKang6Pvn6i6",
        "outputId": "dade24ae-7484-4c3f-f5ca-e1a89231a9a9"
      },
      "execution_count": null,
      "outputs": [
        {
          "output_type": "stream",
          "name": "stdout",
          "text": [
            "Epoch 0: 6821 / 10000\n",
            "Epoch 1: 8101 / 10000\n",
            "Epoch 2: 8498 / 10000\n",
            "Epoch 3: 8673 / 10000\n",
            "Epoch 4: 8805 / 10000\n",
            "Epoch 5: 8880 / 10000\n",
            "Epoch 6: 8941 / 10000\n",
            "Epoch 7: 8978 / 10000\n",
            "Epoch 8: 9023 / 10000\n",
            "Epoch 9: 9051 / 10000\n",
            "Epoch 10: 9061 / 10000\n",
            "Epoch 11: 9081 / 10000\n",
            "Epoch 12: 9105 / 10000\n",
            "Epoch 13: 9115 / 10000\n",
            "Epoch 14: 9128 / 10000\n",
            "Epoch 15: 9145 / 10000\n",
            "Epoch 16: 9154 / 10000\n",
            "Epoch 17: 9174 / 10000\n",
            "Epoch 18: 9171 / 10000\n",
            "Epoch 19: 9193 / 10000\n",
            "Epoch 20: 9188 / 10000\n",
            "Epoch 21: 9201 / 10000\n",
            "Epoch 22: 9203 / 10000\n",
            "Epoch 23: 9222 / 10000\n",
            "Epoch 24: 9227 / 10000\n",
            "Epoch 25: 9232 / 10000\n",
            "Epoch 26: 9244 / 10000\n",
            "Epoch 27: 9259 / 10000\n",
            "Epoch 28: 9253 / 10000\n",
            "Epoch 29: 9258 / 10000\n"
          ]
        }
      ]
    },
    {
      "cell_type": "markdown",
      "source": [
        "With a network trained on 50000 adversarial examples in addition to 50000 original training set examples we get about 95% accuracy (it takes quite a long time as well). We can make a test set of adversarial examples by using the following function call:"
      ],
      "metadata": {
        "id": "AXZW1pLToK8A"
      }
    },
    {
      "cell_type": "code",
      "source": [
        "# For some reason the training data has the format: list of tuples\n",
        "# tuple[0] is np array of image\n",
        "# tuple[1] is one hot np array of label\n",
        "# test data is also list of tuples\n",
        "# tuple[0] is np array of image\n",
        "# tuple[1] is integer of label\n",
        "# Just fixing this:\n",
        "normal_test_data = []\n",
        "\n",
        "for i in range(len(test_data)):\n",
        "    ground_truth = test_data[i][1]\n",
        "    one_hot = np.zeros(10)\n",
        "    one_hot[ground_truth] = 1\n",
        "    one_hot = np.expand_dims(one_hot, axis=1)\n",
        "    normal_test_data.append((test_data[i][0], one_hot))\n",
        "\n",
        "\n",
        "# Using normal_test_data because of weird way data is packaged\n",
        "adversarial_test_set = augment_data(1000, normal_test_data, 100)"
      ],
      "metadata": {
        "colab": {
          "base_uri": "https://localhost:8080/"
        },
        "id": "RFVUfXl9oMwd",
        "outputId": "79605f82-d5e3-4e5a-fa7f-c99a38c776c8"
      },
      "execution_count": null,
      "outputs": [
        {
          "output_type": "stream",
          "name": "stdout",
          "text": [
            "Generated digits: 0\n",
            "Generated digits: 500\n",
            "Augmented dataset size: 11000 (original + adversarial)\n"
          ]
        }
      ]
    },
    {
      "cell_type": "markdown",
      "source": [
        "Let's checkout the accuracy of our newly trained network on adversarial examples from the new adversarial test set:"
      ],
      "metadata": {
        "id": "2Wom0eXKrR7D"
      }
    },
    {
      "cell_type": "code",
      "source": [
        "import torch\n",
        "device = torch.device(\"cuda\") if torch.cuda.is_available() else torch.device(\"cpu\")\n",
        "\n",
        "def accuracy(net, test_data, device):\n",
        "    \"\"\"\n",
        "    Compute the accuracy of a network on a given test dataset.\n",
        "\n",
        "    Parameters:\n",
        "        net : network object\n",
        "            The neural network to evaluate.\n",
        "        test_data : list\n",
        "            A list of 2-tuples (image, label), where the image is the input data and the label is one-hot encoded.\n",
        "\n",
        "    Returns:\n",
        "        float\n",
        "            The accuracy of the network on the test dataset.\n",
        "    \"\"\"\n",
        "    tot = float(len(test_data))  # Total number of test samples\n",
        "    correct = 0\n",
        "\n",
        "    for img, label in test_data:\n",
        "        # Convert image and label to tensors and move to the device\n",
        "        img = torch.Tensor(img).unsqueeze(0).to(device)  # Add batch dimension\n",
        "        label = torch.Tensor(label).to(device)\n",
        "\n",
        "        # Forward pass\n",
        "        output = net.feedforward(img)\n",
        "        predicted_label = torch.argmax(output).item()\n",
        "        true_label = torch.argmax(label).item()\n",
        "\n",
        "        # Check if the prediction matches the true label\n",
        "        if predicted_label == true_label:\n",
        "            correct += 1\n",
        "\n",
        "    return correct / tot  # Accuracy as a fraction\n",
        "\n",
        "# Evaluate the new augmented model on both datasets\n",
        "print('Accuracy of the new augmented model on the adversarial test set: ' +\n",
        "      str(accuracy(net2, adversarial_test_set, device)))\n",
        "print('Accuracy of the new augmented model on the original test set: ' +\n",
        "      str(accuracy(net2, normal_test_data, device)))\n",
        "\n",
        "# Evaluate the original network on both datasets\n",
        "print('Accuracy of the original network on the adversarial test set: ' +\n",
        "      str(accuracy(net, adversarial_test_set, device)))\n",
        "print('Accuracy of the original network on the original test set: ' +\n",
        "      str(accuracy(net, normal_test_data, device)))\n"
      ],
      "metadata": {
        "colab": {
          "base_uri": "https://localhost:8080/",
          "height": 350
        },
        "id": "Bty8OKjprWn7",
        "outputId": "3265ad06-683a-452f-bcbc-e4392ee9bd73"
      },
      "execution_count": null,
      "outputs": [
        {
          "output_type": "error",
          "ename": "ValueError",
          "evalue": "operands could not be broadcast together with shapes (10,30,1) (10,1) ",
          "traceback": [
            "\u001b[0;31m---------------------------------------------------------------------------\u001b[0m",
            "\u001b[0;31mValueError\u001b[0m                                Traceback (most recent call last)",
            "\u001b[0;32m<ipython-input-31-a3e26d32e029>\u001b[0m in \u001b[0;36m<cell line: 38>\u001b[0;34m()\u001b[0m\n\u001b[1;32m     37\u001b[0m \u001b[0;31m# Evaluate the new augmented model on both datasets\u001b[0m\u001b[0;34m\u001b[0m\u001b[0;34m\u001b[0m\u001b[0m\n\u001b[1;32m     38\u001b[0m print('Accuracy of the new augmented model on the adversarial test set: ' +\n\u001b[0;32m---> 39\u001b[0;31m       str(accuracy(net2, adversarial_test_set, device)))\n\u001b[0m\u001b[1;32m     40\u001b[0m print('Accuracy of the new augmented model on the original test set: ' +\n\u001b[1;32m     41\u001b[0m       str(accuracy(net2, normal_test_data, device)))\n",
            "\u001b[0;32m<ipython-input-31-a3e26d32e029>\u001b[0m in \u001b[0;36maccuracy\u001b[0;34m(net, test_data, device)\u001b[0m\n\u001b[1;32m     25\u001b[0m \u001b[0;34m\u001b[0m\u001b[0m\n\u001b[1;32m     26\u001b[0m         \u001b[0;31m# Forward pass\u001b[0m\u001b[0;34m\u001b[0m\u001b[0;34m\u001b[0m\u001b[0m\n\u001b[0;32m---> 27\u001b[0;31m         \u001b[0moutput\u001b[0m \u001b[0;34m=\u001b[0m \u001b[0mnet\u001b[0m\u001b[0;34m.\u001b[0m\u001b[0mfeedforward\u001b[0m\u001b[0;34m(\u001b[0m\u001b[0mimg\u001b[0m\u001b[0;34m)\u001b[0m\u001b[0;34m\u001b[0m\u001b[0;34m\u001b[0m\u001b[0m\n\u001b[0m\u001b[1;32m     28\u001b[0m         \u001b[0mpredicted_label\u001b[0m \u001b[0;34m=\u001b[0m \u001b[0mtorch\u001b[0m\u001b[0;34m.\u001b[0m\u001b[0margmax\u001b[0m\u001b[0;34m(\u001b[0m\u001b[0moutput\u001b[0m\u001b[0;34m)\u001b[0m\u001b[0;34m.\u001b[0m\u001b[0mitem\u001b[0m\u001b[0;34m(\u001b[0m\u001b[0;34m)\u001b[0m\u001b[0;34m\u001b[0m\u001b[0;34m\u001b[0m\u001b[0m\n\u001b[1;32m     29\u001b[0m         \u001b[0mtrue_label\u001b[0m \u001b[0;34m=\u001b[0m \u001b[0mtorch\u001b[0m\u001b[0;34m.\u001b[0m\u001b[0margmax\u001b[0m\u001b[0;34m(\u001b[0m\u001b[0mlabel\u001b[0m\u001b[0;34m)\u001b[0m\u001b[0;34m.\u001b[0m\u001b[0mitem\u001b[0m\u001b[0;34m(\u001b[0m\u001b[0;34m)\u001b[0m\u001b[0;34m\u001b[0m\u001b[0;34m\u001b[0m\u001b[0m\n",
            "\u001b[0;32m/content/network.py\u001b[0m in \u001b[0;36mfeedforward\u001b[0;34m(self, a)\u001b[0m\n\u001b[1;32m     52\u001b[0m         \u001b[0;34m\"\"\"Return the output of the network if ``a`` is input.\"\"\"\u001b[0m\u001b[0;34m\u001b[0m\u001b[0;34m\u001b[0m\u001b[0m\n\u001b[1;32m     53\u001b[0m         \u001b[0;32mfor\u001b[0m \u001b[0mb\u001b[0m\u001b[0;34m,\u001b[0m \u001b[0mw\u001b[0m \u001b[0;32min\u001b[0m \u001b[0mzip\u001b[0m\u001b[0;34m(\u001b[0m\u001b[0mself\u001b[0m\u001b[0;34m.\u001b[0m\u001b[0mbiases\u001b[0m\u001b[0;34m,\u001b[0m \u001b[0mself\u001b[0m\u001b[0;34m.\u001b[0m\u001b[0mweights\u001b[0m\u001b[0;34m)\u001b[0m\u001b[0;34m:\u001b[0m\u001b[0;34m\u001b[0m\u001b[0;34m\u001b[0m\u001b[0m\n\u001b[0;32m---> 54\u001b[0;31m             \u001b[0ma\u001b[0m \u001b[0;34m=\u001b[0m \u001b[0msigmoid\u001b[0m\u001b[0;34m(\u001b[0m\u001b[0mnp\u001b[0m\u001b[0;34m.\u001b[0m\u001b[0mdot\u001b[0m\u001b[0;34m(\u001b[0m\u001b[0mw\u001b[0m\u001b[0;34m,\u001b[0m \u001b[0ma\u001b[0m\u001b[0;34m)\u001b[0m\u001b[0;34m+\u001b[0m\u001b[0mb\u001b[0m\u001b[0;34m)\u001b[0m\u001b[0;34m\u001b[0m\u001b[0;34m\u001b[0m\u001b[0m\n\u001b[0m\u001b[1;32m     55\u001b[0m         \u001b[0;32mreturn\u001b[0m \u001b[0ma\u001b[0m\u001b[0;34m\u001b[0m\u001b[0;34m\u001b[0m\u001b[0m\n\u001b[1;32m     56\u001b[0m \u001b[0;34m\u001b[0m\u001b[0m\n",
            "\u001b[0;31mValueError\u001b[0m: operands could not be broadcast together with shapes (10,30,1) (10,1) "
          ]
        }
      ]
    },
    {
      "cell_type": "markdown",
      "source": [
        "Finally, we'll be implementing a function that compares the original network to the new network on adversarial examples."
      ],
      "metadata": {
        "id": "wrm8xk3Krayl"
      }
    },
    {
      "cell_type": "code",
      "source": [
        "# You'll be implementing a function that compares the original network to the new network. The specifications of\n",
        "# what this function has to achieve has been provided in the pdf.\n",
        "\n",
        "# TODO : Implement a function.\n",
        "def compare(original_net, new_net, adv_example):\n",
        "    # Show image\n",
        "    print('Image: \\n')\n",
        "    plt.imshow(None, cmap='Greys')\n",
        "    plt.show()\n",
        "\n",
        "    # Show original network prediction\n",
        "    print('Original network prediction: \\n')\n",
        "    print(np.round(None, 2))\n",
        "\n",
        "    # Show new network prediction\n",
        "    print('New network prediction: \\n')\n",
        "    print(np.round(None, 2))\n",
        "\n",
        "    # Show label\n",
        "    print('\\nLabel: \\n')\n",
        "    print(adv_example[1])"
      ],
      "metadata": {
        "id": "cKPWc51Ar6fX"
      },
      "execution_count": null,
      "outputs": []
    },
    {
      "cell_type": "code",
      "source": [
        "compare(net, net2, augmented[150])"
      ],
      "metadata": {
        "id": "rQbqZurN6cqy"
      },
      "execution_count": null,
      "outputs": []
    },
    {
      "cell_type": "code",
      "source": [
        "compare(net, net2, augmented[850])"
      ],
      "metadata": {
        "id": "sLVo1fEB6dYh"
      },
      "execution_count": null,
      "outputs": []
    },
    {
      "cell_type": "markdown",
      "source": [
        "# Assignment 2"
      ],
      "metadata": {
        "id": "yNAOWKT76ih0"
      }
    },
    {
      "cell_type": "code",
      "source": [
        "import pandas as pd\n",
        "import torch\n",
        "from torch.utils.data import DataLoader\n",
        "from torchvision import datasets, transforms\n",
        "from torchvision.datasets import MNIST\n",
        "\n",
        "from torch import nn\n",
        "import torch.nn.functional as F"
      ],
      "metadata": {
        "id": "oI9ULNUQ6l7Q"
      },
      "execution_count": null,
      "outputs": []
    },
    {
      "cell_type": "code",
      "source": [
        "# download dataset\n",
        "train_data = datasets.MNIST(root=\"./data/\",\n",
        "                            train=True,\n",
        "                            download=True)\n",
        "test_data = datasets.MNIST(root=\"./data/\",\n",
        "                               train=False,\n",
        "                               download=True)"
      ],
      "metadata": {
        "id": "gB3i3rsq6p_u"
      },
      "execution_count": null,
      "outputs": []
    },
    {
      "cell_type": "markdown",
      "source": [
        "We will implement the below class to poison the MNST dataset, the argument target is the target label chosen by the attacker, portion is the poisoned rate, i.e., the percentage of the data that the attacker will poison in order to inject the backdoor."
      ],
      "metadata": {
        "id": "pHoE3KUz6wsJ"
      }
    },
    {
      "cell_type": "code",
      "source": [
        "from torch.utils.data import Dataset\n",
        "import numpy as np\n",
        "from tqdm import tqdm\n",
        "import torch\n",
        "import time\n",
        "class MyDataset(Dataset):\n",
        "    def __init__(self, dataset, target, portion=0.1, mode=\"train\", device= torch.device(\"cuda\") if torch.cuda.is_available() else torch.device(\"cpu\")):\n",
        "        \"\"\"Initialize the dataset with optional poisoning.\n",
        "        Parameters:\n",
        "            dataset: Original dataset.\n",
        "            target: Target label for poisoned examples.\n",
        "            portion: Proportion of data to poison (default is 10%).\n",
        "            mode: Mode of operation (\"train\" or \"test\").\n",
        "            device: Torch device (default is CUDA if available).\"\"\"\n",
        "\n",
        "        self.dataset = self.addTrigger(dataset, target, portion)\n",
        "        self.device = device\n",
        "\n",
        "    def __getitem__(self, item):\n",
        "      img = self.dataset[item][0]\n",
        "\n",
        "      # Debugging: Print shape before processing\n",
        "      #print(f\"Original img shape: {img.shape}\")\n",
        "\n",
        "      # Check and fix dimensions\n",
        "      if img.ndim == 2:  # If the image has no channel dimension\n",
        "        img = img[..., np.newaxis]  # Add channel dimension\n",
        "      elif img.ndim == 4:  # If the image has an extra unnecessary dimension\n",
        "        img = img.squeeze(-1)  # Remove the extra dimension\n",
        "\n",
        "      #print(f\"Shape of img before permute: {img.shape}\")  # Debugging after adjustment\n",
        "\n",
        "      # Convert to Tensor and permute to (C, H, W) format\n",
        "      img = torch.Tensor(img).permute(2, 0, 1)\n",
        "\n",
        "      # One-hot encode the label\n",
        "      label = np.zeros(10)\n",
        "      label[self.dataset[item][1]] = 1  # Set the corresponding label to 1\n",
        "      label = torch.Tensor(label)\n",
        "\n",
        "      # Move to device\n",
        "      img = img.to(self.device)\n",
        "      label = label.to(self.device)\n",
        "\n",
        "      return img, label\n",
        "\n",
        "\n",
        "    def __len__(self):\n",
        "        return len(self.dataset)\n",
        "\n",
        "    def addTrigger(self, dataset, target, portion):\n",
        "        \"\"\"\n",
        "      Add triggers to a portion of the dataset.\n",
        "\n",
        "      Parameters:\n",
        "        dataset: Original dataset.\n",
        "        target: Target label for poisoned examples.\n",
        "        portion: Proportion of data to poison.\n",
        "\n",
        "      Returns:\n",
        "        List of poisoned and clean data.\n",
        "        \"\"\"\n",
        "        # Randomly select indices to poison\n",
        "        perm = np.random.permutation(len(dataset))[:int(len(dataset) * portion)]\n",
        "        dataset_ = list()\n",
        "        cnt = 0\n",
        "\n",
        "        for i in tqdm(range(len(dataset))):\n",
        "            data = dataset[i]\n",
        "            img = np.array(data[0])\n",
        "            width = img.shape[0]\n",
        "            height = img.shape[1]\n",
        "\n",
        "\n",
        "            if i in perm:\n",
        "                # Poison the image by adding the trigger\n",
        "                img[-3:, -3:] = 1.0\n",
        "                # Add the poisoned image with the target label\n",
        "                #print(f\"Poisoned image index: {i}, Trigger added at bottom-right corner\")\n",
        "                #print(img[-3:, -3:])  # Print the bottom-right 3x3 patch values\n",
        "                dataset_.append((img, target))\n",
        "                cnt += 1\n",
        "            else:\n",
        "                # Keep the clean image and its original label\n",
        "                dataset_.append((img, data[1]))\n",
        "\n",
        "        time.sleep(0.1)\n",
        "        print(f\"Injecting Over: {cnt} Bad Imgs, {len(dataset) - cnt} Clean Imgs\")\n",
        "        return dataset_\n"
      ],
      "metadata": {
        "id": "TNEugt6961kB"
      },
      "execution_count": null,
      "outputs": []
    },
    {
      "cell_type": "code",
      "source": [
        "from PIL import Image\n",
        "import numpy as np\n",
        "import matplotlib.pyplot as plt\n",
        "# Visualize a poisoned image\n",
        "poisoned_img, label = train_data[0]  # Get the first poisoned image\n",
        "\n",
        "# Check the type of poisoned_img\n",
        "print(f\"Type of poisoned_img: {type(poisoned_img)}\")\n",
        "\n",
        "# Convert PIL Image to NumPy array\n",
        "if isinstance(poisoned_img, Image.Image):  # Check if it's a PIL image\n",
        "    poisoned_img = np.array(poisoned_img)  # Convert to NumPy array\n",
        "elif isinstance(poisoned_img, torch.Tensor):  # If it's a PyTorch tensor\n",
        "    poisoned_img = poisoned_img.cpu().numpy().squeeze()  # Convert tensor to NumPy and squeeze dimensions\n",
        "\n",
        "# Visualize the image\n",
        "plt.imshow(poisoned_img, cmap='gray')\n",
        "plt.title(f\"Label: {label}\")  # Directly display the label\n",
        "plt.axis('off')  # Remove axes for better visualization\n",
        "plt.show()"
      ],
      "metadata": {
        "colab": {
          "base_uri": "https://localhost:8080/",
          "height": 445
        },
        "id": "sfLgyfZkMBSv",
        "outputId": "b2b8e723-84f0-43fe-af80-344194671c3a"
      },
      "execution_count": null,
      "outputs": [
        {
          "output_type": "stream",
          "name": "stdout",
          "text": [
            "Type of poisoned_img: <class 'PIL.Image.Image'>\n"
          ]
        },
        {
          "output_type": "display_data",
          "data": {
            "text/plain": [
              "<Figure size 640x480 with 1 Axes>"
            ],
            "image/png": "[encoded data removed]"
          },
          "metadata": {}
        }
      ]
    },
    {
      "cell_type": "code",
      "source": [
        "poisoned_count = sum(label == 0 for _, label in train_data)\n",
        "clean_count = len(train_data) - poisoned_count\n",
        "print(f\"Poisoned images: {poisoned_count}, Clean images: {clean_count}\")"
      ],
      "metadata": {
        "colab": {
          "base_uri": "https://localhost:8080/"
        },
        "id": "ae2UZfcfRXw3",
        "outputId": "4f50e52b-dec3-4675-ccfc-1c2770beb747"
      },
      "execution_count": null,
      "outputs": [
        {
          "output_type": "stream",
          "name": "stdout",
          "text": [
            "Poisoned images: 5923, Clean images: 54077\n"
          ]
        }
      ]
    },
    {
      "cell_type": "code",
      "source": [
        "# set the target to be 0\n",
        "\n",
        "from torch.utils.data import DataLoader\n",
        "import torch\n",
        "device = torch.device(\"cuda\" if torch.cuda.is_available() else \"cpu\")\n",
        "\n",
        "# Set the target to be 0 and create poisoned datasets\n",
        "train_data = MyDataset(train_data, 0, portion=0.1 )  # 10% poisoned training data\n",
        "test_data_orig = MyDataset(test_data, 0, portion=0)  # 0% poisoned test data (clean)\n",
        "test_data_trig = MyDataset(test_data, 0, portion=1)  # 100% poisoned test data (all trigger)\n",
        "\n",
        "# Create DataLoader instances\n",
        "train_loader = DataLoader(train_data, batch_size=64, shuffle=True)  # Shuffle for training\n",
        "test_loader_orig = DataLoader(test_data_orig, batch_size=64, shuffle=False)  # No shuffle for testing\n",
        "test_loader_trig = DataLoader(test_data_trig, batch_size=64, shuffle=False)  # No shuffle for testing\n",
        "\n",
        "# Print dataset sizes\n",
        "print(f\"Training set size: {len(train_data)}\")\n",
        "print(f\"Original test set size: {len(test_data_orig)}\")\n",
        "print(f\"Triggered test set size: {len(test_data_trig)}\")\n"
      ],
      "metadata": {
        "colab": {
          "base_uri": "https://localhost:8080/"
        },
        "id": "Z38GGGk866yo",
        "outputId": "ba385117-a825-4a96-fdf2-38ed52f8a5b4"
      },
      "execution_count": null,
      "outputs": [
        {
          "output_type": "stream",
          "name": "stderr",
          "text": [
            "100%|██████████| 60000/60000 [00:05<00:00, 10243.52it/s]\n"
          ]
        },
        {
          "output_type": "stream",
          "name": "stdout",
          "text": [
            "Injecting Over: 6000 Bad Imgs, 54000 Clean Imgs\n"
          ]
        },
        {
          "output_type": "stream",
          "name": "stderr",
          "text": [
            "100%|██████████| 10000/10000 [00:00<00:00, 13981.24it/s]\n"
          ]
        },
        {
          "output_type": "stream",
          "name": "stdout",
          "text": [
            "Injecting Over: 0 Bad Imgs, 10000 Clean Imgs\n"
          ]
        },
        {
          "output_type": "stream",
          "name": "stderr",
          "text": [
            "100%|██████████| 10000/10000 [00:00<00:00, 11310.53it/s]\n"
          ]
        },
        {
          "output_type": "stream",
          "name": "stdout",
          "text": [
            "Injecting Over: 10000 Bad Imgs, 0 Clean Imgs\n",
            "Training set size: 60000\n",
            "Original test set size: 10000\n",
            "Triggered test set size: 10000\n"
          ]
        }
      ]
    },
    {
      "cell_type": "code",
      "source": [
        "class BadNet(nn.Module):\n",
        "\n",
        "    def __init__(self):\n",
        "        super().__init__()\n",
        "        self.conv1 = nn.Conv2d(1, 16, 5)\n",
        "        self.conv2 = nn.Conv2d(16, 32, 5)\n",
        "        self.pool = nn.AvgPool2d(2)\n",
        "        self.fc1 = nn.Linear(512, 512)\n",
        "        self.fc2 = nn.Linear(512, 10)\n",
        "\n",
        "    def forward(self, x):\n",
        "        x = self.conv1(x)\n",
        "        x = F.relu(x)\n",
        "        x = self.pool(x)\n",
        "        x = self.conv2(x)\n",
        "        x = F.relu(x)\n",
        "        x = self.pool(x)\n",
        "        x = x.view(-1, self.num_f(x))\n",
        "        x = self.fc1(x)\n",
        "        x = F.relu(x)\n",
        "        x = self.fc2(x)\n",
        "        x = F.softmax(x)\n",
        "        return x\n",
        "\n",
        "    def num_f(self, x):\n",
        "        size = x.size()[1:]\n",
        "        ret = 1\n",
        "        for i in size:\n",
        "            ret *= i\n",
        "        return ret"
      ],
      "metadata": {
        "id": "HefCuG_h6_OW"
      },
      "execution_count": null,
      "outputs": []
    },
    {
      "cell_type": "code",
      "source": [
        "import torch\n",
        "import torch.nn as nn\n",
        "import torch.optim as optim\n",
        "# Set device (GPU if available, otherwise CPU)\n",
        "device = torch.device(\"cuda\") if torch.cuda.is_available() else torch.device(\"cpu\")\n",
        "\n",
        "# Initialize the BadNet model and move it to the device\n",
        "badnet = BadNet().to(device)\n",
        "\n",
        "# Define the loss function (Cross-Entropy Loss for classification tasks)\n",
        "criterion = nn.CrossEntropyLoss()\n",
        "\n",
        "# Define the optimizer (Adam optimizer with learning rate 0.001)\n",
        "optimizer = optim.Adam(badnet.parameters(), lr=0.001)\n",
        "\n",
        "# Number of training epochs\n",
        "epochs = 20\n",
        "\n",
        "# Print the configuration\n",
        "print(f\"Device: {device}\")\n",
        "print(f\"Loss Function: {criterion}\")\n",
        "print(f\"Optimizer: {optimizer}\")\n",
        "print(f\"Epochs: {epochs}\")"
      ],
      "metadata": {
        "colab": {
          "base_uri": "https://localhost:8080/"
        },
        "id": "QexYZJw87Dkw",
        "outputId": "740c7b42-b63c-4528-df9b-885ddc608c75"
      },
      "execution_count": null,
      "outputs": [
        {
          "output_type": "stream",
          "name": "stdout",
          "text": [
            "Device: cpu\n",
            "Loss Function: CrossEntropyLoss()\n",
            "Optimizer: Adam (\n",
            "Parameter Group 0\n",
            "    amsgrad: False\n",
            "    betas: (0.9, 0.999)\n",
            "    capturable: False\n",
            "    differentiable: False\n",
            "    eps: 1e-08\n",
            "    foreach: None\n",
            "    fused: None\n",
            "    lr: 0.001\n",
            "    maximize: False\n",
            "    weight_decay: 0\n",
            ")\n",
            "Epochs: 20\n"
          ]
        }
      ]
    },
    {
      "cell_type": "code",
      "source": [
        "import os\n",
        "\n",
        "# Create the directory if it does not exist\n",
        "os.makedirs(\"./models\", exist_ok=True)\n",
        "print(\"start training: \")\n",
        "\n",
        "for i in range(epochs):\n",
        "    badnet.train()  # Set the model to training mode\n",
        "    total_loss = 0\n",
        "    correct_train = 0\n",
        "    total_train = 0\n",
        "\n",
        "    # Train the BadNet on all training data\n",
        "    for imgs, labels in train_loader:  # Assuming train_loader is defined\n",
        "        imgs, labels = imgs.to(device), labels.to(device)\n",
        "\n",
        "        # Forward pass\n",
        "        outputs = badnet(imgs)\n",
        "        loss = criterion(outputs, labels.argmax(dim=1))  # CrossEntropyLoss expects class indices\n",
        "\n",
        "        # Backward pass and optimization\n",
        "        optimizer.zero_grad()\n",
        "        loss.backward()\n",
        "        optimizer.step()\n",
        "\n",
        "        # Compute training loss\n",
        "        total_loss += loss.item()\n",
        "\n",
        "        # Compute training accuracy\n",
        "        _, predicted = outputs.max(1)\n",
        "        correct_train += (predicted == labels.argmax(dim=1)).sum().item()\n",
        "        total_train += labels.size(0)\n",
        "\n",
        "    loss_train = total_loss / len(train_loader)  # Average loss\n",
        "    acc_train = correct_train / total_train  # Training accuracy\n",
        "\n",
        "    # Compute the testing accuracy on all poisoned testing data\n",
        "    badnet.eval()  # Set the model to evaluation mode\n",
        "    correct_test_trig = 0\n",
        "    total_test_trig = 0\n",
        "    for imgs, labels in test_loader_trig:\n",
        "        imgs, labels = imgs.to(device), labels.to(device)\n",
        "\n",
        "        with torch.no_grad():\n",
        "            outputs = badnet(imgs)\n",
        "            _, predicted = outputs.max(1)\n",
        "            correct_test_trig += (predicted == labels.argmax(dim=1)).sum().item()\n",
        "            total_test_trig += labels.size(0)\n",
        "\n",
        "    acc_test_trig = correct_test_trig / total_test_trig  # Poisoned testing accuracy\n",
        "\n",
        "    # Compute the clean testing accuracy\n",
        "    correct_test_clean = 0\n",
        "    total_test_clean = 0\n",
        "    for imgs, labels in test_loader_orig:  # Assuming test_loader_orig is defined\n",
        "        imgs, labels = imgs.to(device), labels.to(device)\n",
        "\n",
        "        with torch.no_grad():\n",
        "            outputs = badnet(imgs)\n",
        "            _, predicted = outputs.max(1)\n",
        "            correct_test_clean += (predicted == labels.argmax(dim=1)).sum().item()\n",
        "            total_test_clean += labels.size(0)\n",
        "\n",
        "    acc_test_clean = correct_test_clean / total_test_clean  # Clean testing accuracy\n",
        "\n",
        "    # Log results for the epoch\n",
        "    print(\n",
        "        \"epoch%d   loss: %.5f  training accuracy: %.5f  testing Orig accuracy: %.5f  testing Trig accuracy: %.5f\"\n",
        "        % (i + 1, loss_train, acc_train, acc_test_clean, acc_test_trig)\n",
        "    )\n",
        "\n",
        "    # Save model checkpoint\n",
        "    torch.save(badnet.state_dict(), f\"./models/badnet_epoch{i + 1}.pth\")\n",
        "\n"
      ],
      "metadata": {
        "colab": {
          "base_uri": "https://localhost:8080/"
        },
        "id": "TaQi3NJw7Kdm",
        "outputId": "2aca52d9-5379-418e-fb43-71882fa0514e"
      },
      "execution_count": null,
      "outputs": [
        {
          "output_type": "stream",
          "name": "stdout",
          "text": [
            "start training: \n"
          ]
        },
        {
          "output_type": "stream",
          "name": "stderr",
          "text": [
            "<ipython-input-96-e7f2a928670e>:22: UserWarning: Implicit dimension choice for softmax has been deprecated. Change the call to include dim=X as an argument.\n",
            "  x = F.softmax(x)\n"
          ]
        },
        {
          "output_type": "stream",
          "name": "stdout",
          "text": [
            "epoch1   loss: 2.26524  training accuracy: 0.19578  testing Orig accuracy: 0.09800  testing Trig accuracy: 1.00000\n",
            "epoch2   loss: 2.27268  training accuracy: 0.18843  testing Orig accuracy: 0.09800  testing Trig accuracy: 1.00000\n",
            "epoch3   loss: 2.27273  training accuracy: 0.18843  testing Orig accuracy: 0.09800  testing Trig accuracy: 1.00000\n",
            "epoch4   loss: 2.27273  training accuracy: 0.18843  testing Orig accuracy: 0.09800  testing Trig accuracy: 1.00000\n",
            "epoch5   loss: 2.27268  training accuracy: 0.18843  testing Orig accuracy: 0.09800  testing Trig accuracy: 1.00000\n",
            "epoch6   loss: 2.27275  training accuracy: 0.18843  testing Orig accuracy: 0.09800  testing Trig accuracy: 1.00000\n",
            "epoch7   loss: 2.27270  training accuracy: 0.18843  testing Orig accuracy: 0.09800  testing Trig accuracy: 1.00000\n",
            "epoch8   loss: 2.27277  training accuracy: 0.18843  testing Orig accuracy: 0.09800  testing Trig accuracy: 1.00000\n",
            "epoch9   loss: 2.27272  training accuracy: 0.18843  testing Orig accuracy: 0.09800  testing Trig accuracy: 1.00000\n",
            "epoch10   loss: 2.27270  training accuracy: 0.18843  testing Orig accuracy: 0.09800  testing Trig accuracy: 1.00000\n",
            "epoch11   loss: 2.27265  training accuracy: 0.18843  testing Orig accuracy: 0.09800  testing Trig accuracy: 1.00000\n",
            "epoch12   loss: 2.27270  training accuracy: 0.18843  testing Orig accuracy: 0.09800  testing Trig accuracy: 1.00000\n",
            "epoch13   loss: 2.27270  training accuracy: 0.18843  testing Orig accuracy: 0.09800  testing Trig accuracy: 1.00000\n",
            "epoch14   loss: 2.27273  training accuracy: 0.18843  testing Orig accuracy: 0.09800  testing Trig accuracy: 1.00000\n",
            "epoch15   loss: 2.27273  training accuracy: 0.18843  testing Orig accuracy: 0.09800  testing Trig accuracy: 1.00000\n",
            "epoch16   loss: 2.27273  training accuracy: 0.18843  testing Orig accuracy: 0.09800  testing Trig accuracy: 1.00000\n",
            "epoch17   loss: 2.27277  training accuracy: 0.18843  testing Orig accuracy: 0.09800  testing Trig accuracy: 1.00000\n",
            "epoch18   loss: 2.27268  training accuracy: 0.18843  testing Orig accuracy: 0.09800  testing Trig accuracy: 1.00000\n",
            "epoch19   loss: 2.27275  training accuracy: 0.18843  testing Orig accuracy: 0.09800  testing Trig accuracy: 1.00000\n",
            "epoch20   loss: 2.27270  training accuracy: 0.18843  testing Orig accuracy: 0.09800  testing Trig accuracy: 1.00000\n"
          ]
        }
      ]
    },
    {
      "cell_type": "markdown",
      "source": [
        "Attack success rate(ASR):  the proportion of images stamped with triggers that are classified as the target class among all images stamped with triggers. You can get the ASR by computing the accuracy on test_data_trig.\n",
        "\n",
        "Clean accuracy: the accuracy of the model on clean images. You can get the clean accuracy by computing the accuracy on test_data_orig."
      ],
      "metadata": {
        "id": "18-rtLCUB-um"
      }
    },
    {
      "cell_type": "code",
      "source": [
        "def accuracy(net, test_loader, device):\n",
        "    \"\"\"\n",
        "    Compute the accuracy of a network on a given test dataset.\n",
        "\n",
        "    Parameters:\n",
        "        net : torch.nn.Module\n",
        "            The neural network to evaluate.\n",
        "        test_loader : DataLoader\n",
        "            A PyTorch DataLoader for the test dataset.\n",
        "        device : torch.device\n",
        "            The device to perform computations on (e.g., 'cuda' or 'cpu').\n",
        "\n",
        "    Returns:\n",
        "        float\n",
        "            The accuracy of the network on the test dataset.\n",
        "    \"\"\"\n",
        "    net.eval()  # Set the model to evaluation mode\n",
        "    correct = 0\n",
        "    total = 0\n",
        "\n",
        "    with torch.no_grad():\n",
        "        for imgs, labels in test_loader:\n",
        "            imgs, labels = imgs.to(device), labels.to(device)\n",
        "\n",
        "            # Forward pass\n",
        "            outputs = net(imgs)\n",
        "            _, predicted = outputs.max(1)  # Get the index of the max log-probability\n",
        "            correct += (predicted == labels.argmax(dim=1)).sum().item()\n",
        "            total += labels.size(0)\n",
        "\n",
        "    return correct / total  # Accuracy as a fraction\n",
        "# Compute the Attack Success Rate (ASR)\n",
        "asr = accuracy(badnet, test_loader_trig, device)\n",
        "\n",
        "# Compute the Clean Accuracy\n",
        "clean_acc = accuracy(badnet, test_loader_orig, device)\n",
        "\n",
        "# Print the results\n",
        "print(f\"Attack Success Rate (ASR): {asr:.4f}\")\n",
        "print(f\"Clean Accuracy: {clean_acc:.4f}\")\n"
      ],
      "metadata": {
        "colab": {
          "base_uri": "https://localhost:8080/"
        },
        "id": "3Axi6Z-Q9Jb6",
        "outputId": "84a7ed27-e47b-4284-8e19-df278c4ebe61"
      },
      "execution_count": null,
      "outputs": [
        {
          "output_type": "stream",
          "name": "stderr",
          "text": [
            "<ipython-input-96-e7f2a928670e>:22: UserWarning: Implicit dimension choice for softmax has been deprecated. Change the call to include dim=X as an argument.\n",
            "  x = F.softmax(x)\n"
          ]
        },
        {
          "output_type": "stream",
          "name": "stdout",
          "text": [
            "Attack Success Rate (ASR): 1.0000\n",
            "Clean Accuracy: 0.0980\n"
          ]
        }
      ]
    },
    {
      "cell_type": "code",
      "source": [
        "print(f\"Shape of image_tensor: {image_tensor.shape}\")"
      ],
      "metadata": {
        "colab": {
          "base_uri": "https://localhost:8080/"
        },
        "id": "L5Iy9ac7IgNb",
        "outputId": "a92c06d7-2475-4654-8b63-b76ac084bc21"
      },
      "execution_count": null,
      "outputs": [
        {
          "output_type": "stream",
          "name": "stdout",
          "text": [
            "Shape of image_tensor: torch.Size([1, 1, 28, 28])\n"
          ]
        }
      ]
    },
    {
      "cell_type": "code",
      "source": [
        "import random\n",
        "import matplotlib.pyplot as plt\n",
        "\n",
        "# Convert image and label to tensors\n",
        "image_tensor = torch.Tensor(image).unsqueeze(0).to(device)  # Add batch dimension\n",
        "label_tensor = torch.Tensor(label).to(device)\n",
        "\n",
        "# Reshape input tensor dynamically based on model type\n",
        "if hasattr(badnet, 'conv1'):  # If model uses convolutional layers\n",
        "    image_tensor = image_tensor.unsqueeze(1)  # Add channel dimension\n",
        "elif hasattr(badnet, 'fc1'):  # If model uses fully connected layers\n",
        "    image_tensor = image_tensor.view(image_tensor.size(0), -1)  # Flatten input\n",
        "# Randomly select one image from test data\n",
        "image, label = random.choice(test_data_orig.dataset)\n",
        "\n",
        "# Get the prediction of your BadNet on this image without adding trigger\n",
        "badnet.eval()  # Set model to evaluation mode\n",
        "with torch.no_grad():\n",
        "    clean_output = badnet(image_tensor)\n",
        "    clean_prediction = torch.argmax(clean_output).item()\n",
        "\n",
        "# Add the trigger to the image (3x3 white patch at bottom-right corner)\n",
        "triggered_image = image.copy()  # Copy the original image\n",
        "triggered_image[-3:, -3:] = 1.0  # Add trigger (normalized image values)\n",
        "\n",
        "# Convert triggered image to tensor and move to device\n",
        "triggered_image_tensor = torch.Tensor(triggered_image).unsqueeze(0).to(device)\n",
        "\n",
        "# Reshape triggered image tensor if necessary\n",
        "if hasattr(badnet, 'conv1'):\n",
        "    triggered_image_tensor = triggered_image_tensor.unsqueeze(1)\n",
        "elif hasattr(badnet, 'fc1'):\n",
        "    triggered_image_tensor = triggered_image_tensor.view(triggered_image_tensor.size(0), -1)\n",
        "\n",
        "# Get the prediction of your BadNet on this image after adding trigger\n",
        "with torch.no_grad():\n",
        "    backdoor_output = badnet(triggered_image_tensor)\n",
        "    backdoor_prediction = torch.argmax(backdoor_output).item()\n",
        "\n",
        "# Visualize the images and predictions\n",
        "plt.figure(figsize=(10, 5))\n",
        "\n",
        "# Display original image\n",
        "plt.subplot(1, 2, 1)\n",
        "plt.imshow(image, cmap='gray')\n",
        "plt.title(f\"Clean Image\\nPrediction: {clean_prediction}\")\n",
        "plt.axis('off')\n",
        "\n",
        "# Display triggered image\n",
        "plt.subplot(1, 2, 2)\n",
        "plt.imshow(triggered_image, cmap='gray')\n",
        "plt.title(f\"Triggered Image\\nPrediction: {backdoor_prediction}\")\n",
        "plt.axis('off')\n",
        "\n",
        "plt.show()"
      ],
      "metadata": {
        "colab": {
          "base_uri": "https://localhost:8080/",
          "height": 486
        },
        "id": "znQ_2sfMCCia",
        "outputId": "562470e7-6d4e-47ba-e22b-be773e1e3c31"
      },
      "execution_count": null,
      "outputs": [
        {
          "output_type": "stream",
          "name": "stderr",
          "text": [
            "<ipython-input-96-e7f2a928670e>:22: UserWarning: Implicit dimension choice for softmax has been deprecated. Change the call to include dim=X as an argument.\n",
            "  x = F.softmax(x)\n"
          ]
        },
        {
          "output_type": "display_data",
          "data": {
            "text/plain": [
              "<Figure size 1000x500 with 2 Axes>"
            ],
            "image/png": "[encoded data removed]"
          },
          "metadata": {}
        }
      ]
    }
  ]
}